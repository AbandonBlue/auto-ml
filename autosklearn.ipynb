{
 "cells": [
  {
   "cell_type": "code",
   "execution_count": 1,
   "metadata": {
    "colab": {
     "base_uri": "https://localhost:8080/"
    },
    "id": "2xVPZ1y1Uu-V",
    "outputId": "d4b4baed-4754-45f3-9419-f88331ab7208"
   },
   "outputs": [
    {
     "name": "stdout",
     "output_type": "stream",
     "text": [
      "Uninstalling scikit-learn-0.24.2:\n",
      "  Successfully uninstalled scikit-learn-0.24.2\n",
      "Collecting scikit-learn>=0.24.0\n",
      "  Using cached https://files.pythonhosted.org/packages/a8/eb/a48f25c967526b66d5f1fa7a984594f0bf0a5afafa94a8c4dbc317744620/scikit_learn-0.24.2-cp37-cp37m-manylinux2010_x86_64.whl\n",
      "Requirement already satisfied: threadpoolctl>=2.0.0 in /usr/local/lib/python3.7/dist-packages (from scikit-learn>=0.24.0) (2.1.0)\n",
      "Requirement already satisfied: numpy>=1.13.3 in /usr/local/lib/python3.7/dist-packages (from scikit-learn>=0.24.0) (1.19.5)\n",
      "Requirement already satisfied: scipy>=0.19.1 in /usr/local/lib/python3.7/dist-packages (from scikit-learn>=0.24.0) (1.4.1)\n",
      "Requirement already satisfied: joblib>=0.11 in /usr/local/lib/python3.7/dist-packages (from scikit-learn>=0.24.0) (1.0.1)\n",
      "Installing collected packages: scikit-learn\n",
      "Successfully installed scikit-learn-0.24.2\n",
      "Uninstalling distributed-2.30.1:\n",
      "  Successfully uninstalled distributed-2.30.1\n",
      "Collecting distributed==2.30.1\n",
      "  Using cached https://files.pythonhosted.org/packages/88/38/d9f0e31c15de18cb124d1ed33cf9c99c84f05f251ff6767e7573c217725b/distributed-2.30.1-py3-none-any.whl\n",
      "Requirement already satisfied: click>=6.6 in /usr/local/lib/python3.7/dist-packages (from distributed==2.30.1) (7.1.2)\n",
      "Requirement already satisfied: setuptools in /usr/local/lib/python3.7/dist-packages (from distributed==2.30.1) (57.0.0)\n",
      "Requirement already satisfied: tblib>=1.6.0 in /usr/local/lib/python3.7/dist-packages (from distributed==2.30.1) (1.7.0)\n",
      "Requirement already satisfied: cloudpickle>=1.5.0 in /usr/local/lib/python3.7/dist-packages (from distributed==2.30.1) (1.6.0)\n",
      "Requirement already satisfied: tornado>=5; python_version < \"3.8\" in /usr/local/lib/python3.7/dist-packages (from distributed==2.30.1) (5.1.1)\n",
      "Requirement already satisfied: zict>=0.1.3 in /usr/local/lib/python3.7/dist-packages (from distributed==2.30.1) (2.0.0)\n",
      "Requirement already satisfied: msgpack>=0.6.0 in /usr/local/lib/python3.7/dist-packages (from distributed==2.30.1) (1.0.2)\n",
      "Requirement already satisfied: sortedcontainers!=2.0.0,!=2.0.1 in /usr/local/lib/python3.7/dist-packages (from distributed==2.30.1) (2.4.0)\n",
      "Requirement already satisfied: dask>=2.9.0 in /usr/local/lib/python3.7/dist-packages (from distributed==2.30.1) (2.12.0)\n",
      "Requirement already satisfied: pyyaml in /usr/local/lib/python3.7/dist-packages (from distributed==2.30.1) (3.13)\n",
      "Requirement already satisfied: toolz>=0.8.2 in /usr/local/lib/python3.7/dist-packages (from distributed==2.30.1) (0.11.1)\n",
      "Requirement already satisfied: psutil>=5.0 in /usr/local/lib/python3.7/dist-packages (from distributed==2.30.1) (5.4.8)\n",
      "Requirement already satisfied: heapdict in /usr/local/lib/python3.7/dist-packages (from zict>=0.1.3->distributed==2.30.1) (1.0.1)\n",
      "Installing collected packages: distributed\n",
      "Successfully installed distributed-2.30.1\n",
      "Requirement already satisfied: auto-sklearn in /usr/local/lib/python3.7/dist-packages (0.12.6)\n",
      "Requirement already satisfied: dask in /usr/local/lib/python3.7/dist-packages (from auto-sklearn) (2.12.0)\n",
      "Requirement already satisfied: setuptools in /usr/local/lib/python3.7/dist-packages (from auto-sklearn) (57.0.0)\n",
      "Requirement already satisfied: liac-arff in /usr/local/lib/python3.7/dist-packages (from auto-sklearn) (2.5.0)\n",
      "Requirement already satisfied: pandas>=1.0 in /usr/local/lib/python3.7/dist-packages (from auto-sklearn) (1.1.5)\n",
      "Requirement already satisfied: numpy>=1.9.0 in /usr/local/lib/python3.7/dist-packages (from auto-sklearn) (1.19.5)\n",
      "Requirement already satisfied: scipy>=0.14.1 in /usr/local/lib/python3.7/dist-packages (from auto-sklearn) (1.4.1)\n",
      "Requirement already satisfied: joblib in /usr/local/lib/python3.7/dist-packages (from auto-sklearn) (1.0.1)\n",
      "Requirement already satisfied: scikit-learn<0.25.0,>=0.24.0 in /usr/local/lib/python3.7/dist-packages (from auto-sklearn) (0.24.2)\n",
      "Requirement already satisfied: smac<0.14,>=0.13.1 in /usr/local/lib/python3.7/dist-packages (from auto-sklearn) (0.13.1)\n",
      "Requirement already satisfied: pynisher>=0.6.3 in /usr/local/lib/python3.7/dist-packages (from auto-sklearn) (0.6.4)\n",
      "Requirement already satisfied: distributed>=2.2.0 in /usr/local/lib/python3.7/dist-packages (from auto-sklearn) (2.30.1)\n",
      "Requirement already satisfied: pyrfr<0.9,>=0.8.1 in /usr/local/lib/python3.7/dist-packages (from auto-sklearn) (0.8.2)\n",
      "Requirement already satisfied: pyyaml in /usr/local/lib/python3.7/dist-packages (from auto-sklearn) (3.13)\n",
      "Requirement already satisfied: ConfigSpace<0.5,>=0.4.14 in /usr/local/lib/python3.7/dist-packages (from auto-sklearn) (0.4.19)\n",
      "Requirement already satisfied: python-dateutil>=2.7.3 in /usr/local/lib/python3.7/dist-packages (from pandas>=1.0->auto-sklearn) (2.8.1)\n",
      "Requirement already satisfied: pytz>=2017.2 in /usr/local/lib/python3.7/dist-packages (from pandas>=1.0->auto-sklearn) (2018.9)\n",
      "Requirement already satisfied: threadpoolctl>=2.0.0 in /usr/local/lib/python3.7/dist-packages (from scikit-learn<0.25.0,>=0.24.0->auto-sklearn) (2.1.0)\n",
      "Requirement already satisfied: lazy-import in /usr/local/lib/python3.7/dist-packages (from smac<0.14,>=0.13.1->auto-sklearn) (0.2.2)\n",
      "Requirement already satisfied: psutil in /usr/local/lib/python3.7/dist-packages (from smac<0.14,>=0.13.1->auto-sklearn) (5.4.8)\n",
      "Requirement already satisfied: tblib>=1.6.0 in /usr/local/lib/python3.7/dist-packages (from distributed>=2.2.0->auto-sklearn) (1.7.0)\n",
      "Requirement already satisfied: toolz>=0.8.2 in /usr/local/lib/python3.7/dist-packages (from distributed>=2.2.0->auto-sklearn) (0.11.1)\n",
      "Requirement already satisfied: msgpack>=0.6.0 in /usr/local/lib/python3.7/dist-packages (from distributed>=2.2.0->auto-sklearn) (1.0.2)\n",
      "Requirement already satisfied: cloudpickle>=1.5.0 in /usr/local/lib/python3.7/dist-packages (from distributed>=2.2.0->auto-sklearn) (1.6.0)\n",
      "Requirement already satisfied: sortedcontainers!=2.0.0,!=2.0.1 in /usr/local/lib/python3.7/dist-packages (from distributed>=2.2.0->auto-sklearn) (2.4.0)\n",
      "Requirement already satisfied: tornado>=5; python_version < \"3.8\" in /usr/local/lib/python3.7/dist-packages (from distributed>=2.2.0->auto-sklearn) (5.1.1)\n",
      "Requirement already satisfied: click>=6.6 in /usr/local/lib/python3.7/dist-packages (from distributed>=2.2.0->auto-sklearn) (7.1.2)\n",
      "Requirement already satisfied: zict>=0.1.3 in /usr/local/lib/python3.7/dist-packages (from distributed>=2.2.0->auto-sklearn) (2.0.0)\n",
      "Requirement already satisfied: cython in /usr/local/lib/python3.7/dist-packages (from ConfigSpace<0.5,>=0.4.14->auto-sklearn) (0.29.23)\n",
      "Requirement already satisfied: pyparsing in /usr/local/lib/python3.7/dist-packages (from ConfigSpace<0.5,>=0.4.14->auto-sklearn) (2.4.7)\n",
      "Requirement already satisfied: six>=1.5 in /usr/local/lib/python3.7/dist-packages (from python-dateutil>=2.7.3->pandas>=1.0->auto-sklearn) (1.15.0)\n",
      "Requirement already satisfied: heapdict in /usr/local/lib/python3.7/dist-packages (from zict>=0.1.3->distributed>=2.2.0->auto-sklearn) (1.0.1)\n"
     ]
    }
   ],
   "source": [
    "# 要放在最上面，因為下面會用到sklearn 會有runtime error\n",
    "!pip uninstall -y scikit-learn\n",
    "!pip install 'scikit-learn>=0.24.0'\n",
    "!pip uninstall -y distributed\n",
    "!pip install 'distributed==2.30.1'\n",
    "!pip install auto-sklearn\n",
    "import autosklearn"
   ]
  },
  {
   "cell_type": "code",
   "execution_count": 2,
   "metadata": {
    "colab": {
     "base_uri": "https://localhost:8080/"
    },
    "id": "F9zYv5icU4ZJ",
    "outputId": "67c59539-2b71-49fc-ca21-e71f27e74ccc"
   },
   "outputs": [
    {
     "name": "stdout",
     "output_type": "stream",
     "text": [
      "<class 'pandas.core.frame.DataFrame'>\n",
      "Int64Index: 600 entries, 24 to 102\n",
      "Data columns (total 20 columns):\n",
      " #   Column                  Non-Null Count  Dtype   \n",
      "---  ------                  --------------  -----   \n",
      " 0   checking_status         600 non-null    category\n",
      " 1   duration                600 non-null    float64 \n",
      " 2   credit_history          600 non-null    category\n",
      " 3   purpose                 600 non-null    category\n",
      " 4   credit_amount           600 non-null    float64 \n",
      " 5   savings_status          600 non-null    category\n",
      " 6   employment              600 non-null    category\n",
      " 7   installment_commitment  600 non-null    float64 \n",
      " 8   personal_status         600 non-null    category\n",
      " 9   other_parties           600 non-null    category\n",
      " 10  residence_since         600 non-null    float64 \n",
      " 11  property_magnitude      600 non-null    category\n",
      " 12  age                     600 non-null    float64 \n",
      " 13  other_payment_plans     600 non-null    category\n",
      " 14  housing                 600 non-null    category\n",
      " 15  existing_credits        600 non-null    float64 \n",
      " 16  job                     600 non-null    category\n",
      " 17  num_dependents          600 non-null    float64 \n",
      " 18  own_telephone           600 non-null    category\n",
      " 19  foreign_worker          600 non-null    category\n",
      "dtypes: category(13), float64(7)\n",
      "memory usage: 47.4 KB\n"
     ]
    }
   ],
   "source": [
    "import sklearn\n",
    "import sklearn.datasets\n",
    "import sklearn.model_selection\n",
    "\n",
    "# 取得資料\n",
    "x, y = sklearn.datasets.fetch_openml(data_id=31, return_X_y=True, as_frame=True)\n",
    "\n",
    "# 切分資料\n",
    "x_train, x_test, y_train, y_test = sklearn.model_selection.train_test_split(x, y, test_size=0.4, random_state=42)\n",
    "\n",
    "x_train.info()"
   ]
  },
  {
   "cell_type": "code",
   "execution_count": 3,
   "metadata": {
    "id": "3Y_-cjCjU-L5"
   },
   "outputs": [],
   "source": [
    "# 手動建立pipeline\n",
    "\n",
    "from sklearn.compose import ColumnTransformer\n",
    "from sklearn.metrics import accuracy_score\n",
    "from sklearn.pipeline import Pipeline\n",
    "from sklearn.preprocessing import OneHotEncoder\n",
    "from sklearn.preprocessing import StandardScaler\n",
    "from sklearn.ensemble import RandomForestClassifier"
   ]
  },
  {
   "cell_type": "code",
   "execution_count": 4,
   "metadata": {
    "colab": {
     "base_uri": "https://localhost:8080/"
    },
    "id": "u7yXPHVPU9sc",
    "outputId": "6f02c2a6-1e27-417d-d699-17e002fb31ed"
   },
   "outputs": [
    {
     "data": {
      "text/plain": [
       "Pipeline(steps=[('encoder',\n",
       "                 ColumnTransformer(remainder='passthrough',\n",
       "                                   transformers=[('cat',\n",
       "                                                  OneHotEncoder(handle_unknown='ignore'),\n",
       "                                                  ['checking_status',\n",
       "                                                   'credit_history', 'purpose',\n",
       "                                                   'savings_status',\n",
       "                                                   'employment',\n",
       "                                                   'personal_status',\n",
       "                                                   'other_parties',\n",
       "                                                   'property_magnitude',\n",
       "                                                   'other_payment_plans',\n",
       "                                                   'housing', 'job',\n",
       "                                                   'own_telephone',\n",
       "                                                   'foreign_worker'])])),\n",
       "                ('scaler', StandardScaler()),\n",
       "                ('rf', RandomForestClassifier())])"
      ]
     },
     "execution_count": 4,
     "metadata": {
      "tags": []
     },
     "output_type": "execute_result"
    }
   ],
   "source": [
    "estimator_rf = RandomForestClassifier()\n",
    "\n",
    "categorical_columns = [col for col in x_train.columns if x[col].dtype.name=='category']\n",
    "encoder = ColumnTransformer(transformers=[\n",
    "    ('cat', OneHotEncoder(handle_unknown='ignore'), categorical_columns)\n",
    "], remainder='passthrough')\n",
    "pipeline_rf = Pipeline([\n",
    "    ('encoder', encoder),\n",
    "    ('scaler', StandardScaler()),\n",
    "    ('rf', estimator_rf),\n",
    "])\n",
    "pipeline_rf.fit(x_train, y_train)"
   ]
  },
  {
   "cell_type": "code",
   "execution_count": 5,
   "metadata": {
    "colab": {
     "base_uri": "https://localhost:8080/"
    },
    "id": "KWmK7rchW23K",
    "outputId": "0b45833f-2294-4401-8803-abdcbcaa10d8"
   },
   "outputs": [
    {
     "name": "stdout",
     "output_type": "stream",
     "text": [
      "0.7575\n"
     ]
    }
   ],
   "source": [
    "# metrics\n",
    "\n",
    "prediction = pipeline_rf.predict(x_test)\n",
    "acc = accuracy_score(y_test, prediction)\n",
    "print(acc)"
   ]
  },
  {
   "cell_type": "code",
   "execution_count": 10,
   "metadata": {
    "colab": {
     "base_uri": "https://localhost:8080/"
    },
    "id": "fThpqjvla35M",
    "outputId": "8d044e25-002e-4016-ff61-be316bbed72f"
   },
   "outputs": [
    {
     "data": {
      "text/plain": [
       "array(['good', 'good', 'bad', 'good', 'good', 'good', 'good', 'bad',\n",
       "       'good', 'good', 'good', 'bad', 'good', 'bad', 'bad', 'good',\n",
       "       'good', 'good', 'good', 'good', 'good', 'bad', 'good', 'good',\n",
       "       'good', 'bad', 'bad', 'good', 'good', 'good', 'good', 'good',\n",
       "       'good', 'good', 'good', 'good', 'bad', 'good', 'good', 'bad',\n",
       "       'good', 'good', 'good', 'good', 'good', 'good', 'good', 'good',\n",
       "       'good', 'good', 'bad', 'good', 'good', 'good', 'good', 'good',\n",
       "       'good', 'bad', 'bad', 'good', 'good', 'bad', 'good', 'good',\n",
       "       'good', 'good', 'good', 'bad', 'good', 'good', 'good', 'good',\n",
       "       'good', 'good', 'good', 'good', 'good', 'good', 'good', 'good',\n",
       "       'good', 'good', 'good', 'bad', 'good', 'good', 'bad', 'bad',\n",
       "       'good', 'good', 'good', 'good', 'bad', 'good', 'good', 'good',\n",
       "       'good', 'good', 'bad', 'good', 'good', 'good', 'good', 'good',\n",
       "       'good', 'good', 'good', 'bad', 'good', 'good', 'bad', 'good',\n",
       "       'good', 'good', 'good', 'good', 'good', 'good', 'good', 'bad',\n",
       "       'good', 'good', 'good', 'good', 'good', 'good', 'bad', 'good',\n",
       "       'good', 'good', 'good', 'good', 'good', 'good', 'good', 'good',\n",
       "       'bad', 'good', 'good', 'good', 'bad', 'good', 'good', 'good',\n",
       "       'good', 'bad', 'good', 'good', 'bad', 'bad', 'good', 'good',\n",
       "       'good', 'good', 'good', 'good', 'good', 'good', 'good', 'good',\n",
       "       'good', 'good', 'bad', 'bad', 'good', 'good', 'good', 'bad',\n",
       "       'good', 'good', 'good', 'good', 'good', 'good', 'good', 'good',\n",
       "       'good', 'good', 'good', 'good', 'good', 'good', 'good', 'good',\n",
       "       'good', 'good', 'bad', 'good', 'good', 'good', 'good', 'good',\n",
       "       'bad', 'good', 'good', 'good', 'bad', 'bad', 'bad', 'good', 'bad',\n",
       "       'good', 'good', 'good', 'good', 'bad', 'good', 'good', 'good',\n",
       "       'good', 'good', 'bad', 'bad', 'good', 'good', 'good', 'good',\n",
       "       'good', 'good', 'good', 'good', 'good', 'good', 'good', 'bad',\n",
       "       'good', 'good', 'good', 'good', 'good', 'good', 'good', 'good',\n",
       "       'good', 'good', 'good', 'good', 'good', 'good', 'good', 'bad',\n",
       "       'good', 'good', 'good', 'good', 'good', 'good', 'good', 'good',\n",
       "       'bad', 'good', 'good', 'bad', 'good', 'good', 'good', 'good',\n",
       "       'good', 'good', 'good', 'good', 'good', 'good', 'good', 'good',\n",
       "       'good', 'good', 'good', 'bad', 'bad', 'good', 'good', 'good',\n",
       "       'good', 'good', 'bad', 'good', 'good', 'good', 'bad', 'good',\n",
       "       'good', 'good', 'good', 'good', 'good', 'bad', 'good', 'good',\n",
       "       'good', 'good', 'good', 'bad', 'good', 'good', 'good', 'good',\n",
       "       'good', 'good', 'good', 'good', 'good', 'good', 'good', 'good',\n",
       "       'good', 'bad', 'good', 'bad', 'good', 'good', 'good', 'good',\n",
       "       'bad', 'good', 'good', 'good', 'good', 'bad', 'good', 'good',\n",
       "       'good', 'good', 'good', 'good', 'good', 'bad', 'good', 'bad',\n",
       "       'good', 'good', 'good', 'good', 'good', 'good', 'good', 'bad',\n",
       "       'good', 'good', 'good', 'good', 'good', 'good', 'bad', 'good',\n",
       "       'good', 'good', 'good', 'good', 'good', 'good', 'good', 'good',\n",
       "       'good', 'bad', 'bad', 'good', 'good', 'good', 'good', 'good',\n",
       "       'good', 'good', 'good', 'good', 'good', 'good', 'good', 'good',\n",
       "       'good', 'good', 'good', 'good', 'good', 'good', 'good', 'good',\n",
       "       'good', 'good', 'bad', 'good', 'good', 'good', 'good', 'good',\n",
       "       'good', 'bad', 'good', 'good', 'good', 'good', 'good', 'good',\n",
       "       'good', 'good', 'good', 'good', 'good', 'good', 'good'],\n",
       "      dtype=object)"
      ]
     },
     "execution_count": 10,
     "metadata": {
      "tags": []
     },
     "output_type": "execute_result"
    }
   ],
   "source": [
    "prediction"
   ]
  },
  {
   "cell_type": "markdown",
   "metadata": {
    "id": "ru1VDv71cVbJ"
   },
   "source": [
    "### 測試GBDT"
   ]
  },
  {
   "cell_type": "code",
   "execution_count": 11,
   "metadata": {
    "id": "K6jvePTecpLL"
   },
   "outputs": [],
   "source": [
    "from sklearn.ensemble import GradientBoostingClassifier"
   ]
  },
  {
   "cell_type": "code",
   "execution_count": 13,
   "metadata": {
    "colab": {
     "base_uri": "https://localhost:8080/"
    },
    "id": "-divBHNKcdMQ",
    "outputId": "130f685e-b41c-4e0f-9217-7bd4352260a9"
   },
   "outputs": [
    {
     "name": "stdout",
     "output_type": "stream",
     "text": [
      "0.7375\n"
     ]
    }
   ],
   "source": [
    "pipeline_gbdt = Pipeline([\n",
    "    ('encoder', encoder),\n",
    "    ('scaler', StandardScaler()),\n",
    "    ('gbdt', GradientBoostingClassifier()),\n",
    "])\n",
    "pipeline_gbdt.fit(x_train, y_train)\n",
    "prediction_gbdt = pipeline_gbdt.predict(x_test)\n",
    "\n",
    "print(accuracy_score(y_test, prediction_gbdt))"
   ]
  },
  {
   "cell_type": "code",
   "execution_count": 8,
   "metadata": {
    "colab": {
     "base_uri": "https://localhost:8080/"
    },
    "id": "MrqOKTxzXUvD",
    "outputId": "0a7a5301-a244-4231-f2b0-59759aa9af6c"
   },
   "outputs": [
    {
     "name": "stdout",
     "output_type": "stream",
     "text": [
      "0.775\n"
     ]
    }
   ],
   "source": [
    "from autosklearn.classification import AutoSklearnClassifier\n",
    "# 更多可以查閱官網: https://automl.github.io/auto-sklearn/master/api.html\n",
    "\n",
    "# modelling\n",
    "estimator_auto = AutoSklearnClassifier(\n",
    "    time_left_for_this_task=300,    # 秒\n",
    "    seed=42,\n",
    "    resampling_strategy='cv',\n",
    "    n_jobs=1                        # 1 CPU\n",
    ")\n",
    "estimator_auto.fit(x_train, y_train)\n",
    "\n",
    "\n",
    "# score\n",
    "prediction_auto = estimator_auto.predict(x_test)\n",
    "acc_auto = accuracy_score(y_test, prediction_auto)\n",
    "print(acc_auto)"
   ]
  },
  {
   "cell_type": "code",
   "execution_count": 9,
   "metadata": {
    "colab": {
     "base_uri": "https://localhost:8080/"
    },
    "id": "bePS4jvZXq1F",
    "outputId": "8a51ff1b-221b-4a2b-b1a5-decc1c936b74"
   },
   "outputs": [
    {
     "data": {
      "text/plain": [
       "array(['good', 'good', 'bad', 'good', 'good', 'good', 'good', 'good',\n",
       "       'good', 'good', 'good', 'bad', 'good', 'bad', 'bad', 'good',\n",
       "       'good', 'good', 'good', 'good', 'good', 'good', 'good', 'good',\n",
       "       'good', 'good', 'bad', 'good', 'good', 'good', 'good', 'good',\n",
       "       'good', 'good', 'good', 'good', 'bad', 'good', 'good', 'bad',\n",
       "       'good', 'good', 'good', 'good', 'good', 'good', 'good', 'good',\n",
       "       'good', 'good', 'good', 'good', 'good', 'good', 'good', 'good',\n",
       "       'good', 'bad', 'bad', 'good', 'good', 'bad', 'good', 'good',\n",
       "       'good', 'good', 'good', 'good', 'good', 'good', 'good', 'good',\n",
       "       'good', 'good', 'good', 'good', 'good', 'good', 'good', 'good',\n",
       "       'good', 'good', 'good', 'good', 'good', 'good', 'bad', 'bad',\n",
       "       'good', 'good', 'good', 'good', 'bad', 'good', 'good', 'good',\n",
       "       'good', 'good', 'bad', 'good', 'good', 'good', 'good', 'good',\n",
       "       'good', 'good', 'good', 'good', 'good', 'good', 'bad', 'good',\n",
       "       'good', 'good', 'good', 'good', 'good', 'good', 'good', 'good',\n",
       "       'good', 'good', 'good', 'good', 'good', 'good', 'bad', 'good',\n",
       "       'good', 'good', 'good', 'good', 'good', 'good', 'good', 'good',\n",
       "       'good', 'good', 'good', 'good', 'bad', 'good', 'good', 'good',\n",
       "       'good', 'good', 'good', 'good', 'bad', 'bad', 'good', 'good',\n",
       "       'good', 'good', 'good', 'good', 'good', 'good', 'good', 'good',\n",
       "       'good', 'good', 'bad', 'bad', 'good', 'good', 'good', 'good',\n",
       "       'good', 'good', 'good', 'good', 'good', 'good', 'good', 'good',\n",
       "       'good', 'good', 'good', 'bad', 'good', 'good', 'good', 'good',\n",
       "       'good', 'good', 'bad', 'good', 'good', 'good', 'good', 'good',\n",
       "       'bad', 'good', 'good', 'good', 'bad', 'good', 'bad', 'good', 'bad',\n",
       "       'good', 'good', 'good', 'good', 'bad', 'good', 'good', 'good',\n",
       "       'good', 'good', 'bad', 'bad', 'good', 'good', 'good', 'good',\n",
       "       'good', 'good', 'good', 'good', 'good', 'good', 'good', 'good',\n",
       "       'good', 'good', 'good', 'good', 'good', 'good', 'good', 'good',\n",
       "       'good', 'good', 'good', 'good', 'good', 'good', 'good', 'bad',\n",
       "       'good', 'good', 'good', 'good', 'good', 'good', 'good', 'good',\n",
       "       'bad', 'good', 'good', 'bad', 'good', 'good', 'good', 'good',\n",
       "       'good', 'good', 'good', 'good', 'good', 'good', 'good', 'good',\n",
       "       'good', 'good', 'good', 'bad', 'bad', 'good', 'good', 'good',\n",
       "       'good', 'good', 'bad', 'good', 'good', 'good', 'bad', 'good',\n",
       "       'good', 'good', 'good', 'good', 'good', 'bad', 'good', 'good',\n",
       "       'good', 'good', 'good', 'bad', 'good', 'good', 'good', 'good',\n",
       "       'good', 'good', 'good', 'good', 'good', 'good', 'good', 'good',\n",
       "       'good', 'bad', 'good', 'bad', 'good', 'good', 'good', 'good',\n",
       "       'bad', 'good', 'good', 'good', 'good', 'bad', 'good', 'good',\n",
       "       'good', 'good', 'good', 'good', 'good', 'good', 'good', 'bad',\n",
       "       'good', 'good', 'good', 'bad', 'good', 'good', 'good', 'bad',\n",
       "       'good', 'good', 'good', 'good', 'good', 'good', 'good', 'good',\n",
       "       'good', 'good', 'good', 'good', 'good', 'good', 'good', 'good',\n",
       "       'good', 'bad', 'bad', 'good', 'good', 'good', 'good', 'good',\n",
       "       'good', 'good', 'good', 'good', 'good', 'good', 'good', 'good',\n",
       "       'good', 'good', 'good', 'good', 'good', 'good', 'good', 'good',\n",
       "       'good', 'good', 'bad', 'good', 'good', 'good', 'good', 'good',\n",
       "       'good', 'bad', 'good', 'good', 'good', 'good', 'good', 'good',\n",
       "       'good', 'good', 'good', 'good', 'good', 'good', 'good'],\n",
       "      dtype=object)"
      ]
     },
     "execution_count": 9,
     "metadata": {
      "tags": []
     },
     "output_type": "execute_result"
    }
   ],
   "source": [
    "prediction_auto"
   ]
  },
  {
   "cell_type": "markdown",
   "metadata": {
    "id": "7kptRJKVd1Dl"
   },
   "source": [
    "### 透過show_models可以看到結果\n",
    "- 我認為可以快速發現比較適用的模型。\n",
    "    - 隨機森林(0.56): 可見是一個表現較為良好的模型。\n",
    "    - ExtraTrees(0.12)\n",
    "    - 隨機森林(0.08): 不同的參數設定\n",
    "    - GBDT(0.04)\n",
    "    - more..."
   ]
  },
  {
   "cell_type": "code",
   "execution_count": 17,
   "metadata": {
    "colab": {
     "base_uri": "https://localhost:8080/"
    },
    "id": "s9CaVCMmdW9x",
    "outputId": "62bdd089-2d03-49b8-f9fa-77f44f66a935"
   },
   "outputs": [
    {
     "name": "stdout",
     "output_type": "stream",
     "text": [
      "(\"[(0.560000, SimpleClassificationPipeline({'balancing:strategy': 'none', \"\n",
      " \"'classifier:__choice__': 'random_forest', \"\n",
      " \"'data_preprocessing:categorical_transformer:categorical_encoding:__choice__': \"\n",
      " \"'one_hot_encoding', \"\n",
      " \"'data_preprocessing:categorical_transformer:category_coalescence:__choice__': \"\n",
      " \"'minority_coalescer', \"\n",
      " \"'data_preprocessing:numerical_transformer:imputation:strategy': 'mean', \"\n",
      " \"'data_preprocessing:numerical_transformer:rescaling:__choice__': \"\n",
      " \"'standardize', 'feature_preprocessor:__choice__': 'no_preprocessing', \"\n",
      " \"'classifier:random_forest:bootstrap': 'True', \"\n",
      " \"'classifier:random_forest:criterion': 'gini', \"\n",
      " \"'classifier:random_forest:max_depth': 'None', \"\n",
      " \"'classifier:random_forest:max_features': 0.5, \"\n",
      " \"'classifier:random_forest:max_leaf_nodes': 'None', \"\n",
      " \"'classifier:random_forest:min_impurity_decrease': 0.0, \"\n",
      " \"'classifier:random_forest:min_samples_leaf': 1, \"\n",
      " \"'classifier:random_forest:min_samples_split': 2, \"\n",
      " \"'classifier:random_forest:min_weight_fraction_leaf': 0.0, \"\n",
      " \"'data_preprocessing:categorical_transformer:category_coalescence:minority_coalescer:minimum_fraction': \"\n",
      " '0.01},\\n'\n",
      " 'dataset_properties={\\n'\n",
      " \"  'task': 1,\\n\"\n",
      " \"  'sparse': False,\\n\"\n",
      " \"  'multilabel': False,\\n\"\n",
      " \"  'multiclass': False,\\n\"\n",
      " \"  'target_type': 'classification',\\n\"\n",
      " \"  'signed': False})),\\n\"\n",
      " \"(0.120000, SimpleClassificationPipeline({'balancing:strategy': 'none', \"\n",
      " \"'classifier:__choice__': 'extra_trees', \"\n",
      " \"'data_preprocessing:categorical_transformer:categorical_encoding:__choice__': \"\n",
      " \"'one_hot_encoding', \"\n",
      " \"'data_preprocessing:categorical_transformer:category_coalescence:__choice__': \"\n",
      " \"'no_coalescense', \"\n",
      " \"'data_preprocessing:numerical_transformer:imputation:strategy': 'median', \"\n",
      " \"'data_preprocessing:numerical_transformer:rescaling:__choice__': 'none', \"\n",
      " \"'feature_preprocessor:__choice__': 'polynomial', \"\n",
      " \"'classifier:extra_trees:bootstrap': 'False', \"\n",
      " \"'classifier:extra_trees:criterion': 'gini', \"\n",
      " \"'classifier:extra_trees:max_depth': 'None', \"\n",
      " \"'classifier:extra_trees:max_features': 0.5707983257382487, \"\n",
      " \"'classifier:extra_trees:max_leaf_nodes': 'None', \"\n",
      " \"'classifier:extra_trees:min_impurity_decrease': 0.0, \"\n",
      " \"'classifier:extra_trees:min_samples_leaf': 3, \"\n",
      " \"'classifier:extra_trees:min_samples_split': 11, \"\n",
      " \"'classifier:extra_trees:min_weight_fraction_leaf': 0.0, \"\n",
      " \"'feature_preprocessor:polynomial:degree': 2, \"\n",
      " \"'feature_preprocessor:polynomial:include_bias': 'False', \"\n",
      " \"'feature_preprocessor:polynomial:interaction_only': 'False'},\\n\"\n",
      " 'dataset_properties={\\n'\n",
      " \"  'task': 1,\\n\"\n",
      " \"  'sparse': False,\\n\"\n",
      " \"  'multilabel': False,\\n\"\n",
      " \"  'multiclass': False,\\n\"\n",
      " \"  'target_type': 'classification',\\n\"\n",
      " \"  'signed': False})),\\n\"\n",
      " \"(0.080000, SimpleClassificationPipeline({'balancing:strategy': 'none', \"\n",
      " \"'classifier:__choice__': 'random_forest', \"\n",
      " \"'data_preprocessing:categorical_transformer:categorical_encoding:__choice__': \"\n",
      " \"'one_hot_encoding', \"\n",
      " \"'data_preprocessing:categorical_transformer:category_coalescence:__choice__': \"\n",
      " \"'minority_coalescer', \"\n",
      " \"'data_preprocessing:numerical_transformer:imputation:strategy': \"\n",
      " \"'most_frequent', \"\n",
      " \"'data_preprocessing:numerical_transformer:rescaling:__choice__': \"\n",
      " \"'standardize', 'feature_preprocessor:__choice__': 'no_preprocessing', \"\n",
      " \"'classifier:random_forest:bootstrap': 'True', \"\n",
      " \"'classifier:random_forest:criterion': 'entropy', \"\n",
      " \"'classifier:random_forest:max_depth': 'None', \"\n",
      " \"'classifier:random_forest:max_features': 0.926283631486858, \"\n",
      " \"'classifier:random_forest:max_leaf_nodes': 'None', \"\n",
      " \"'classifier:random_forest:min_impurity_decrease': 0.0, \"\n",
      " \"'classifier:random_forest:min_samples_leaf': 7, \"\n",
      " \"'classifier:random_forest:min_samples_split': 2, \"\n",
      " \"'classifier:random_forest:min_weight_fraction_leaf': 0.0, \"\n",
      " \"'data_preprocessing:categorical_transformer:category_coalescence:minority_coalescer:minimum_fraction': \"\n",
      " '0.16265262021972576},\\n'\n",
      " 'dataset_properties={\\n'\n",
      " \"  'task': 1,\\n\"\n",
      " \"  'sparse': False,\\n\"\n",
      " \"  'multilabel': False,\\n\"\n",
      " \"  'multiclass': False,\\n\"\n",
      " \"  'target_type': 'classification',\\n\"\n",
      " \"  'signed': False})),\\n\"\n",
      " \"(0.080000, SimpleClassificationPipeline({'balancing:strategy': 'weighting', \"\n",
      " \"'classifier:__choice__': 'random_forest', \"\n",
      " \"'data_preprocessing:categorical_transformer:categorical_encoding:__choice__': \"\n",
      " \"'no_encoding', \"\n",
      " \"'data_preprocessing:categorical_transformer:category_coalescence:__choice__': \"\n",
      " \"'minority_coalescer', \"\n",
      " \"'data_preprocessing:numerical_transformer:imputation:strategy': \"\n",
      " \"'most_frequent', \"\n",
      " \"'data_preprocessing:numerical_transformer:rescaling:__choice__': 'minmax', \"\n",
      " \"'feature_preprocessor:__choice__': 'select_percentile_classification', \"\n",
      " \"'classifier:random_forest:bootstrap': 'True', \"\n",
      " \"'classifier:random_forest:criterion': 'entropy', \"\n",
      " \"'classifier:random_forest:max_depth': 'None', \"\n",
      " \"'classifier:random_forest:max_features': 0.49138075723513286, \"\n",
      " \"'classifier:random_forest:max_leaf_nodes': 'None', \"\n",
      " \"'classifier:random_forest:min_impurity_decrease': 0.0, \"\n",
      " \"'classifier:random_forest:min_samples_leaf': 1, \"\n",
      " \"'classifier:random_forest:min_samples_split': 6, \"\n",
      " \"'classifier:random_forest:min_weight_fraction_leaf': 0.0, \"\n",
      " \"'data_preprocessing:categorical_transformer:category_coalescence:minority_coalescer:minimum_fraction': \"\n",
      " '0.42693600390988135, '\n",
      " \"'feature_preprocessor:select_percentile_classification:percentile': \"\n",
      " '56.97947373958566, '\n",
      " \"'feature_preprocessor:select_percentile_classification:score_func': \"\n",
      " \"'mutual_info'},\\n\"\n",
      " 'dataset_properties={\\n'\n",
      " \"  'task': 1,\\n\"\n",
      " \"  'sparse': False,\\n\"\n",
      " \"  'multilabel': False,\\n\"\n",
      " \"  'multiclass': False,\\n\"\n",
      " \"  'target_type': 'classification',\\n\"\n",
      " \"  'signed': False})),\\n\"\n",
      " \"(0.040000, SimpleClassificationPipeline({'balancing:strategy': 'none', \"\n",
      " \"'classifier:__choice__': 'gradient_boosting', \"\n",
      " \"'data_preprocessing:categorical_transformer:categorical_encoding:__choice__': \"\n",
      " \"'one_hot_encoding', \"\n",
      " \"'data_preprocessing:categorical_transformer:category_coalescence:__choice__': \"\n",
      " \"'no_coalescense', \"\n",
      " \"'data_preprocessing:numerical_transformer:imputation:strategy': \"\n",
      " \"'most_frequent', \"\n",
      " \"'data_preprocessing:numerical_transformer:rescaling:__choice__': \"\n",
      " \"'quantile_transformer', 'feature_preprocessor:__choice__': \"\n",
      " \"'select_rates_classification', 'classifier:gradient_boosting:early_stop': \"\n",
      " \"'train', 'classifier:gradient_boosting:l2_regularization': \"\n",
      " \"2.0357979007621058e-10, 'classifier:gradient_boosting:learning_rate': \"\n",
      " \"0.04202246787451397, 'classifier:gradient_boosting:loss': 'auto', \"\n",
      " \"'classifier:gradient_boosting:max_bins': 255, \"\n",
      " \"'classifier:gradient_boosting:max_depth': 'None', \"\n",
      " \"'classifier:gradient_boosting:max_leaf_nodes': 31, \"\n",
      " \"'classifier:gradient_boosting:min_samples_leaf': 14, \"\n",
      " \"'classifier:gradient_boosting:scoring': 'loss', \"\n",
      " \"'classifier:gradient_boosting:tol': 1e-07, \"\n",
      " \"'data_preprocessing:numerical_transformer:rescaling:quantile_transformer:n_quantiles': \"\n",
      " '921, '\n",
      " \"'data_preprocessing:numerical_transformer:rescaling:quantile_transformer:output_distribution': \"\n",
      " \"'uniform', 'feature_preprocessor:select_rates_classification:alpha': \"\n",
      " '0.2145020691771003, '\n",
      " \"'feature_preprocessor:select_rates_classification:score_func': 'chi2', \"\n",
      " \"'classifier:gradient_boosting:n_iter_no_change': 10, \"\n",
      " \"'feature_preprocessor:select_rates_classification:mode': 'fpr'},\\n\"\n",
      " 'dataset_properties={\\n'\n",
      " \"  'task': 1,\\n\"\n",
      " \"  'sparse': False,\\n\"\n",
      " \"  'multilabel': False,\\n\"\n",
      " \"  'multiclass': False,\\n\"\n",
      " \"  'target_type': 'classification',\\n\"\n",
      " \"  'signed': False})),\\n\"\n",
      " \"(0.040000, SimpleClassificationPipeline({'balancing:strategy': 'none', \"\n",
      " \"'classifier:__choice__': 'extra_trees', \"\n",
      " \"'data_preprocessing:categorical_transformer:categorical_encoding:__choice__': \"\n",
      " \"'one_hot_encoding', \"\n",
      " \"'data_preprocessing:categorical_transformer:category_coalescence:__choice__': \"\n",
      " \"'no_coalescense', \"\n",
      " \"'data_preprocessing:numerical_transformer:imputation:strategy': 'median', \"\n",
      " \"'data_preprocessing:numerical_transformer:rescaling:__choice__': 'none', \"\n",
      " \"'feature_preprocessor:__choice__': 'select_rates_classification', \"\n",
      " \"'classifier:extra_trees:bootstrap': 'False', \"\n",
      " \"'classifier:extra_trees:criterion': 'entropy', \"\n",
      " \"'classifier:extra_trees:max_depth': 'None', \"\n",
      " \"'classifier:extra_trees:max_features': 0.562561668029056, \"\n",
      " \"'classifier:extra_trees:max_leaf_nodes': 'None', \"\n",
      " \"'classifier:extra_trees:min_impurity_decrease': 0.0, \"\n",
      " \"'classifier:extra_trees:min_samples_leaf': 2, \"\n",
      " \"'classifier:extra_trees:min_samples_split': 15, \"\n",
      " \"'classifier:extra_trees:min_weight_fraction_leaf': 0.0, \"\n",
      " \"'feature_preprocessor:select_rates_classification:alpha': \"\n",
      " '0.32106218519214325, '\n",
      " \"'feature_preprocessor:select_rates_classification:score_func': 'chi2', \"\n",
      " \"'feature_preprocessor:select_rates_classification:mode': 'fwe'},\\n\"\n",
      " 'dataset_properties={\\n'\n",
      " \"  'task': 1,\\n\"\n",
      " \"  'sparse': False,\\n\"\n",
      " \"  'multilabel': False,\\n\"\n",
      " \"  'multiclass': False,\\n\"\n",
      " \"  'target_type': 'classification',\\n\"\n",
      " \"  'signed': False})),\\n\"\n",
      " \"(0.040000, SimpleClassificationPipeline({'balancing:strategy': 'weighting', \"\n",
      " \"'classifier:__choice__': 'lda', \"\n",
      " \"'data_preprocessing:categorical_transformer:categorical_encoding:__choice__': \"\n",
      " \"'no_encoding', \"\n",
      " \"'data_preprocessing:categorical_transformer:category_coalescence:__choice__': \"\n",
      " \"'minority_coalescer', \"\n",
      " \"'data_preprocessing:numerical_transformer:imputation:strategy': 'median', \"\n",
      " \"'data_preprocessing:numerical_transformer:rescaling:__choice__': \"\n",
      " \"'robust_scaler', 'feature_preprocessor:__choice__': \"\n",
      " \"'select_rates_classification', 'classifier:lda:shrinkage': 'auto', \"\n",
      " \"'classifier:lda:tol': 0.06502391592449622, \"\n",
      " \"'data_preprocessing:categorical_transformer:category_coalescence:minority_coalescer:minimum_fraction': \"\n",
      " '0.025659060146568036, '\n",
      " \"'data_preprocessing:numerical_transformer:rescaling:robust_scaler:q_max': \"\n",
      " '0.75, '\n",
      " \"'data_preprocessing:numerical_transformer:rescaling:robust_scaler:q_min': \"\n",
      " '0.2479524799615851, '\n",
      " \"'feature_preprocessor:select_rates_classification:alpha': \"\n",
      " '0.3801972898691173, '\n",
      " \"'feature_preprocessor:select_rates_classification:score_func': \"\n",
      " \"'mutual_info_classif'},\\n\"\n",
      " 'dataset_properties={\\n'\n",
      " \"  'task': 1,\\n\"\n",
      " \"  'sparse': False,\\n\"\n",
      " \"  'multilabel': False,\\n\"\n",
      " \"  'multiclass': False,\\n\"\n",
      " \"  'target_type': 'classification',\\n\"\n",
      " \"  'signed': False})),\\n\"\n",
      " \"(0.020000, SimpleClassificationPipeline({'balancing:strategy': 'none', \"\n",
      " \"'classifier:__choice__': 'gradient_boosting', \"\n",
      " \"'data_preprocessing:categorical_transformer:categorical_encoding:__choice__': \"\n",
      " \"'no_encoding', \"\n",
      " \"'data_preprocessing:categorical_transformer:category_coalescence:__choice__': \"\n",
      " \"'no_coalescense', \"\n",
      " \"'data_preprocessing:numerical_transformer:imputation:strategy': 'median', \"\n",
      " \"'data_preprocessing:numerical_transformer:rescaling:__choice__': 'minmax', \"\n",
      " \"'feature_preprocessor:__choice__': 'liblinear_svc_preprocessor', \"\n",
      " \"'classifier:gradient_boosting:early_stop': 'train', \"\n",
      " \"'classifier:gradient_boosting:l2_regularization': 0.005326508887463406, \"\n",
      " \"'classifier:gradient_boosting:learning_rate': 0.060800813211425456, \"\n",
      " \"'classifier:gradient_boosting:loss': 'auto', \"\n",
      " \"'classifier:gradient_boosting:max_bins': 255, \"\n",
      " \"'classifier:gradient_boosting:max_depth': 'None', \"\n",
      " \"'classifier:gradient_boosting:max_leaf_nodes': 6, \"\n",
      " \"'classifier:gradient_boosting:min_samples_leaf': 5, \"\n",
      " \"'classifier:gradient_boosting:scoring': 'loss', \"\n",
      " \"'classifier:gradient_boosting:tol': 1e-07, \"\n",
      " \"'feature_preprocessor:liblinear_svc_preprocessor:C': 13.550960330919455, \"\n",
      " \"'feature_preprocessor:liblinear_svc_preprocessor:dual': 'False', \"\n",
      " \"'feature_preprocessor:liblinear_svc_preprocessor:fit_intercept': 'True', \"\n",
      " \"'feature_preprocessor:liblinear_svc_preprocessor:intercept_scaling': 1, \"\n",
      " \"'feature_preprocessor:liblinear_svc_preprocessor:loss': 'squared_hinge', \"\n",
      " \"'feature_preprocessor:liblinear_svc_preprocessor:multi_class': 'ovr', \"\n",
      " \"'feature_preprocessor:liblinear_svc_preprocessor:penalty': 'l1', \"\n",
      " \"'feature_preprocessor:liblinear_svc_preprocessor:tol': \"\n",
      " \"1.2958033930435781e-05, 'classifier:gradient_boosting:n_iter_no_change': \"\n",
      " '5},\\n'\n",
      " 'dataset_properties={\\n'\n",
      " \"  'task': 1,\\n\"\n",
      " \"  'sparse': False,\\n\"\n",
      " \"  'multilabel': False,\\n\"\n",
      " \"  'multiclass': False,\\n\"\n",
      " \"  'target_type': 'classification',\\n\"\n",
      " \"  'signed': False})),\\n\"\n",
      " \"(0.020000, SimpleClassificationPipeline({'balancing:strategy': 'weighting', \"\n",
      " \"'classifier:__choice__': 'extra_trees', \"\n",
      " \"'data_preprocessing:categorical_transformer:categorical_encoding:__choice__': \"\n",
      " \"'no_encoding', \"\n",
      " \"'data_preprocessing:categorical_transformer:category_coalescence:__choice__': \"\n",
      " \"'minority_coalescer', \"\n",
      " \"'data_preprocessing:numerical_transformer:imputation:strategy': 'median', \"\n",
      " \"'data_preprocessing:numerical_transformer:rescaling:__choice__': \"\n",
      " \"'robust_scaler', 'feature_preprocessor:__choice__': 'polynomial', \"\n",
      " \"'classifier:extra_trees:bootstrap': 'False', \"\n",
      " \"'classifier:extra_trees:criterion': 'entropy', \"\n",
      " \"'classifier:extra_trees:max_depth': 'None', \"\n",
      " \"'classifier:extra_trees:max_features': 0.993803313878608, \"\n",
      " \"'classifier:extra_trees:max_leaf_nodes': 'None', \"\n",
      " \"'classifier:extra_trees:min_impurity_decrease': 0.0, \"\n",
      " \"'classifier:extra_trees:min_samples_leaf': 2, \"\n",
      " \"'classifier:extra_trees:min_samples_split': 20, \"\n",
      " \"'classifier:extra_trees:min_weight_fraction_leaf': 0.0, \"\n",
      " \"'data_preprocessing:categorical_transformer:category_coalescence:minority_coalescer:minimum_fraction': \"\n",
      " '0.41826215858914706, '\n",
      " \"'data_preprocessing:numerical_transformer:rescaling:robust_scaler:q_max': \"\n",
      " '0.7305615609807856, '\n",
      " \"'data_preprocessing:numerical_transformer:rescaling:robust_scaler:q_min': \"\n",
      " \"0.25595970768123566, 'feature_preprocessor:polynomial:degree': 2, \"\n",
      " \"'feature_preprocessor:polynomial:include_bias': 'True', \"\n",
      " \"'feature_preprocessor:polynomial:interaction_only': 'True'},\\n\"\n",
      " 'dataset_properties={\\n'\n",
      " \"  'task': 1,\\n\"\n",
      " \"  'sparse': False,\\n\"\n",
      " \"  'multilabel': False,\\n\"\n",
      " \"  'multiclass': False,\\n\"\n",
      " \"  'target_type': 'classification',\\n\"\n",
      " \"  'signed': False})),\\n\"\n",
      " ']')\n"
     ]
    }
   ],
   "source": [
    "from pprint import pprint\n",
    "\n",
    "pprint(estimator_auto.show_models())"
   ]
  },
  {
   "cell_type": "markdown",
   "metadata": {
    "id": "2lMw5b_dbPe9"
   },
   "source": [
    "## 總結\n",
    "- 比起繁瑣的人工特徵處理、模型選擇，AutoML提供一個快速得到還不錯模型的方法，但效果不會是最好的。\n",
    "- 有時候暴力破解不失為一個好方法\n",
    "- 但需要題目定義清楚，也就是資料科學家最重要的工作\n",
    "- 簡單的任務可以達到，但更複雜、非監督式任務就不適用。"
   ]
  },
  {
   "cell_type": "code",
   "execution_count": null,
   "metadata": {
    "id": "G5e2iEgzbu1c"
   },
   "outputs": [],
   "source": []
  }
 ],
 "metadata": {
  "colab": {
   "name": "autosklearn.ipynb",
   "provenance": []
  },
  "kernelspec": {
   "display_name": "Python 3",
   "language": "python",
   "name": "python3"
  },
  "language_info": {
   "codemirror_mode": {
    "name": "ipython",
    "version": 3
   },
   "file_extension": ".py",
   "mimetype": "text/x-python",
   "name": "python",
   "nbconvert_exporter": "python",
   "pygments_lexer": "ipython3",
   "version": "3.7.3"
  }
 },
 "nbformat": 4,
 "nbformat_minor": 1
}
